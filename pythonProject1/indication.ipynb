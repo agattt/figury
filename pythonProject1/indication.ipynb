{
 "cells": [
  {
   "cell_type": "code",
   "execution_count": 111,
   "metadata": {
    "collapsed": true
   },
   "outputs": [],
   "source": [
    "import pandas as pd\n",
    "import matplotlib.pyplot as plt\n",
    "import numpy as np\n",
    "\n",
    "path = \"C:/Users/agaci/OneDrive/Dokumenty/CogSci/VR/data_indication\"\n",
    "\n",
    "data = pd.read_json(path + \"/2020_9_19_14_55_responses.json\")"
   ]
  },
  {
   "cell_type": "markdown",
   "source": [
    "### Splitting data into four arrays\n",
    "\n",
    "Front, back, left and right conditions"
   ],
   "metadata": {
    "collapsed": false,
    "pycharm": {
     "name": "#%% md\n"
    }
   }
  },
  {
   "cell_type": "code",
   "execution_count": 112,
   "outputs": [
    {
     "data": {
      "text/plain": "    F10_ANGLE F10_COL  F10_DIST F10_SCALE F10_TYPE  F11_ANGLE F11_COL  \\\n0         195    blue        90    medium   sphere        255     red   \n8         315    blue        30     large   sphere        210   green   \n13        225    blue        30    medium     cone        255     red   \n17        345    blue        90    medium   sphere        255  yellow   \n25        300     red        90     large     cone        195  yellow   \n\n    F11_DIST F11_SCALE  F11_TYPE  ...  gender handedness  lang_prim lang_sec  \\\n0         30     small      cube  ...       M          R         PL        N   \n8         90     small      cube  ...       M          R         PL        N   \n13        60    medium      cube  ...       M          R         PL        N   \n17        30    medium    sphere  ...       M          R         PL        N   \n25        30     large  cylinder  ...       M          R         PL        N   \n\n   native  participant response  rid        rt  \\\n0       T           21     LEFT   KK  12752653   \n8       T           21    RIGHT   KK   8700660   \n13      T           21    RIGHT   KK  13851144   \n17      T           21     LEFT   KK  11338253   \n25      T           21     LEFT   KK  10238181   \n\n                                           selections  \n0   [{'angle': 105, 'color': 'green', 'distance': ...  \n8   [{'angle': 75, 'color': 'green', 'distance': 3...  \n13  [{'angle': 90, 'color': 'yellow', 'distance': ...  \n17  [{'angle': 165, 'color': 'yellow', 'distance':...  \n25  [{'angle': 180, 'color': 'blue', 'distance': 9...  \n\n[5 rows x 77 columns]",
      "text/html": "<div>\n<style scoped>\n    .dataframe tbody tr th:only-of-type {\n        vertical-align: middle;\n    }\n\n    .dataframe tbody tr th {\n        vertical-align: top;\n    }\n\n    .dataframe thead th {\n        text-align: right;\n    }\n</style>\n<table border=\"1\" class=\"dataframe\">\n  <thead>\n    <tr style=\"text-align: right;\">\n      <th></th>\n      <th>F10_ANGLE</th>\n      <th>F10_COL</th>\n      <th>F10_DIST</th>\n      <th>F10_SCALE</th>\n      <th>F10_TYPE</th>\n      <th>F11_ANGLE</th>\n      <th>F11_COL</th>\n      <th>F11_DIST</th>\n      <th>F11_SCALE</th>\n      <th>F11_TYPE</th>\n      <th>...</th>\n      <th>gender</th>\n      <th>handedness</th>\n      <th>lang_prim</th>\n      <th>lang_sec</th>\n      <th>native</th>\n      <th>participant</th>\n      <th>response</th>\n      <th>rid</th>\n      <th>rt</th>\n      <th>selections</th>\n    </tr>\n  </thead>\n  <tbody>\n    <tr>\n      <th>0</th>\n      <td>195</td>\n      <td>blue</td>\n      <td>90</td>\n      <td>medium</td>\n      <td>sphere</td>\n      <td>255</td>\n      <td>red</td>\n      <td>30</td>\n      <td>small</td>\n      <td>cube</td>\n      <td>...</td>\n      <td>M</td>\n      <td>R</td>\n      <td>PL</td>\n      <td>N</td>\n      <td>T</td>\n      <td>21</td>\n      <td>LEFT</td>\n      <td>KK</td>\n      <td>12752653</td>\n      <td>[{'angle': 105, 'color': 'green', 'distance': ...</td>\n    </tr>\n    <tr>\n      <th>8</th>\n      <td>315</td>\n      <td>blue</td>\n      <td>30</td>\n      <td>large</td>\n      <td>sphere</td>\n      <td>210</td>\n      <td>green</td>\n      <td>90</td>\n      <td>small</td>\n      <td>cube</td>\n      <td>...</td>\n      <td>M</td>\n      <td>R</td>\n      <td>PL</td>\n      <td>N</td>\n      <td>T</td>\n      <td>21</td>\n      <td>RIGHT</td>\n      <td>KK</td>\n      <td>8700660</td>\n      <td>[{'angle': 75, 'color': 'green', 'distance': 3...</td>\n    </tr>\n    <tr>\n      <th>13</th>\n      <td>225</td>\n      <td>blue</td>\n      <td>30</td>\n      <td>medium</td>\n      <td>cone</td>\n      <td>255</td>\n      <td>red</td>\n      <td>60</td>\n      <td>medium</td>\n      <td>cube</td>\n      <td>...</td>\n      <td>M</td>\n      <td>R</td>\n      <td>PL</td>\n      <td>N</td>\n      <td>T</td>\n      <td>21</td>\n      <td>RIGHT</td>\n      <td>KK</td>\n      <td>13851144</td>\n      <td>[{'angle': 90, 'color': 'yellow', 'distance': ...</td>\n    </tr>\n    <tr>\n      <th>17</th>\n      <td>345</td>\n      <td>blue</td>\n      <td>90</td>\n      <td>medium</td>\n      <td>sphere</td>\n      <td>255</td>\n      <td>yellow</td>\n      <td>30</td>\n      <td>medium</td>\n      <td>sphere</td>\n      <td>...</td>\n      <td>M</td>\n      <td>R</td>\n      <td>PL</td>\n      <td>N</td>\n      <td>T</td>\n      <td>21</td>\n      <td>LEFT</td>\n      <td>KK</td>\n      <td>11338253</td>\n      <td>[{'angle': 165, 'color': 'yellow', 'distance':...</td>\n    </tr>\n    <tr>\n      <th>25</th>\n      <td>300</td>\n      <td>red</td>\n      <td>90</td>\n      <td>large</td>\n      <td>cone</td>\n      <td>195</td>\n      <td>yellow</td>\n      <td>30</td>\n      <td>large</td>\n      <td>cylinder</td>\n      <td>...</td>\n      <td>M</td>\n      <td>R</td>\n      <td>PL</td>\n      <td>N</td>\n      <td>T</td>\n      <td>21</td>\n      <td>LEFT</td>\n      <td>KK</td>\n      <td>10238181</td>\n      <td>[{'angle': 180, 'color': 'blue', 'distance': 9...</td>\n    </tr>\n  </tbody>\n</table>\n<p>5 rows × 77 columns</p>\n</div>"
     },
     "execution_count": 112,
     "metadata": {},
     "output_type": "execute_result"
    }
   ],
   "source": [
    "df_front = data[data.SENTENCE.isin([\"przed\"])]\n",
    "\n",
    "df_back = data[data.SENTENCE.isin([\"za\"])]\n",
    "\n",
    "df_right = data[data.SENTENCE.isin([\"prawo\"])]\n",
    "\n",
    "df_left = data[data.SENTENCE.isin([\"prawo\"])]\n",
    "\n",
    "df_front.head()"
   ],
   "metadata": {
    "collapsed": false,
    "pycharm": {
     "name": "#%%\n"
    }
   }
  },
  {
   "cell_type": "markdown",
   "source": [
    "### Reposition the figures\n",
    "\n",
    "F1 is the centre-piece, needs to be set at a 90-degree angle.\n",
    "The rest of the figures need to be shifted accordingly."
   ],
   "metadata": {
    "collapsed": false,
    "pycharm": {
     "name": "#%% md\n"
    }
   }
  },
  {
   "cell_type": "code",
   "execution_count": 112,
   "outputs": [],
   "source": [],
   "metadata": {
    "collapsed": false,
    "pycharm": {
     "name": "#%%\n"
    }
   }
  },
  {
   "cell_type": "code",
   "execution_count": 113,
   "outputs": [],
   "source": [
    "def reposition_figures(data_frame):\n",
    "\n",
    "    for i in data_frame.index:\n",
    "\n",
    "        if data_frame.at[i,\"F1_ANGLE\"] != 90:\n",
    "\n",
    "            drift = data_frame.at[i,\"F1_ANGLE\"] - 90\n",
    "\n",
    "            #reposition angles of figures\n",
    "\n",
    "            for j in range(1, 13):\n",
    "\n",
    "                col = \"F\" + str(j) + \"_ANGLE\"\n",
    "\n",
    "                if data_frame.at[i, col]- drift < 0:\n",
    "\n",
    "                    data_frame.at[i, col] = 360 - (drift - data_frame.at[i, col])\n",
    "\n",
    "                else:\n",
    "\n",
    "                    data_frame.at[i, col] -= drift\n",
    "\n",
    "            #reposition angles of selected figures\n",
    "\n",
    "            for k in range(len(data_frame.at[i, 'selections'])):\n",
    "\n",
    "                if data_frame.at[i, 'selections'][k]['angle']- drift < 0:\n",
    "\n",
    "                    data_frame.at[i, 'selections'][k]['angle'] = \\\n",
    "                        360 - (drift - data_frame.at[i, 'selections'][k]['angle'])\n",
    "\n",
    "                else:\n",
    "\n",
    "                    data_frame.at[i, 'selections'][k]['angle'] -= drift\n",
    "\n",
    "    return data_frame\n",
    "\n",
    "df = reposition_figures(df_left)"
   ],
   "metadata": {
    "collapsed": false,
    "pycharm": {
     "name": "#%%\n"
    }
   }
  },
  {
   "cell_type": "markdown",
   "source": [
    "### For each item get locations of chosen figures\n"
   ],
   "metadata": {
    "collapsed": false,
    "pycharm": {
     "name": "#%% md\n"
    }
   }
  },
  {
   "cell_type": "code",
   "execution_count": 114,
   "outputs": [],
   "source": [
    "def get_selected_figures(data_frame):\n",
    "\n",
    "    sol = []\n",
    "\n",
    "    for i in data_frame.index:\n",
    "\n",
    "        selections = data_frame.loc[i, \"selections\"]\n",
    "\n",
    "        item_sol = []\n",
    "\n",
    "        for elt in selections:\n",
    "\n",
    "            item_sol.append( (elt['angle'], elt['distance']) )\n",
    "\n",
    "        sol.append(item_sol)\n",
    "\n",
    "    return sol\n",
    "\n",
    "selected_figs = get_selected_figures(df)"
   ],
   "metadata": {
    "collapsed": false,
    "pycharm": {
     "name": "#%%\n"
    }
   }
  },
  {
   "cell_type": "markdown",
   "source": [
    "### Create positions of all figures"
   ],
   "metadata": {
    "collapsed": false,
    "pycharm": {
     "name": "#%% md\n"
    }
   }
  },
  {
   "cell_type": "code",
   "execution_count": 115,
   "outputs": [],
   "source": [
    "def get_figure_locations(data_frame):\n",
    "\n",
    "    sol = []\n",
    "\n",
    "    k = -1\n",
    "\n",
    "    for i in data_frame.index:\n",
    "\n",
    "        k+= 1\n",
    "\n",
    "        sub_sol = []\n",
    "\n",
    "        item_angles = data_frame.loc[i, data_frame.columns.str.contains(\"ANGLE\")]\n",
    "\n",
    "        item_distances = data_frame.loc[i, data_frame.columns.str.contains(\"DIST\")]\n",
    "\n",
    "        for j in range(len(item_angles)):\n",
    "\n",
    "            loc = (item_angles.values[j], item_distances.values[j])\n",
    "\n",
    "            sub_sol.append(loc)\n",
    "\n",
    "        sol.append(sub_sol)\n",
    "\n",
    "    return sol\n",
    "\n",
    "\n",
    "all_figs_positions = get_figure_locations(df)"
   ],
   "metadata": {
    "collapsed": false,
    "pycharm": {
     "name": "#%%\n"
    }
   }
  },
  {
   "cell_type": "markdown",
   "source": [
    "### Decide which figures for all items were selected"
   ],
   "metadata": {
    "collapsed": false,
    "pycharm": {
     "name": "#%% md\n"
    }
   }
  },
  {
   "cell_type": "code",
   "execution_count": 116,
   "outputs": [],
   "source": [
    "def is_selected(selected_figures, all_figures):\n",
    "\n",
    "    sol = []\n",
    "\n",
    "    for row in range(len(all_figures)):\n",
    "\n",
    "        item_sol = []\n",
    "\n",
    "        for column in range(len(all_figures[row])):\n",
    "\n",
    "            item_sol.append(all_figures[row][column] in selected_figures[row])\n",
    "\n",
    "        sol.append(item_sol)\n",
    "\n",
    "    return sol\n",
    "\n",
    "selected = is_selected(selected_figs, all_figs_positions)\n",
    "\n",
    "\n",
    "df_decisions = pd.DataFrame(selected)"
   ],
   "metadata": {
    "collapsed": false,
    "pycharm": {
     "name": "#%%\n"
    }
   }
  },
  {
   "cell_type": "markdown",
   "source": [
    "### Create an array of angles/distances for plotting"
   ],
   "metadata": {
    "collapsed": false,
    "pycharm": {
     "name": "#%% md\n"
    }
   }
  },
  {
   "cell_type": "code",
   "execution_count": 117,
   "outputs": [],
   "source": [
    "def get_angles_or_distances(df, col_name):\n",
    "\n",
    "    sol = df.loc[:, df.columns.str.contains(col_name)]\n",
    "\n",
    "    sol.reset_index(inplace=True, drop=True)\n",
    "\n",
    "    if col_name == \"DIST\":\n",
    "\n",
    "        sol = sol/100\n",
    "\n",
    "    if col_name == \"ANGLE\":\n",
    "\n",
    "        sol = sol.values/ (180/np.pi)\n",
    "\n",
    "    return sol\n",
    "\n",
    "angles = get_angles_or_distances(df, \"ANGLE\")\n",
    "distances = get_angles_or_distances(df, \"DIST\")"
   ],
   "metadata": {
    "collapsed": false,
    "pycharm": {
     "name": "#%%\n"
    }
   }
  },
  {
   "cell_type": "code",
   "execution_count": 118,
   "outputs": [],
   "source": [
    "def color_points(df):\n",
    "\n",
    "    df.replace(True, \"Blue\", inplace=True)\n",
    "    df.replace(False, \"Red\", inplace=True)\n",
    "    df.iloc[:, 3] = \"Black\"\n",
    "\n",
    "    return 1"
   ],
   "metadata": {
    "collapsed": false,
    "pycharm": {
     "name": "#%%\n"
    }
   }
  },
  {
   "cell_type": "code",
   "execution_count": 120,
   "outputs": [
    {
     "data": {
      "text/plain": "     0    1    2      3     4     5     6     7     8    9    10   11\n0   Red  Red  Red  Black  Blue  Blue  Blue  Blue  Blue  Red  Red  Red\n1   Red  Red  Red  Black  Blue  Blue  Blue  Blue  Blue  Red  Red  Red\n2   Red  Red  Red  Black  Blue  Blue  Blue  Blue  Blue  Red  Red  Red\n3   Red  Red  Red  Black  Blue  Blue  Blue  Blue  Blue  Red  Red  Red\n4   Red  Red  Red  Black  Blue  Blue  Blue  Blue  Blue  Red  Red  Red\n5   Red  Red  Red  Black  Blue  Blue  Blue  Blue  Blue  Red  Red  Red\n6   Red  Red  Red  Black  Blue  Blue  Blue  Blue  Blue  Red  Red  Red\n7   Red  Red  Red  Black  Blue  Blue  Blue  Blue  Blue  Red  Red  Red\n8   Red  Red  Red  Black  Blue  Blue  Blue  Blue  Blue  Red  Red  Red\n9   Red  Red  Red  Black  Blue  Blue  Blue  Blue  Blue  Red  Red  Red\n10  Red  Red  Red  Black  Blue  Blue  Blue  Blue  Blue  Red  Red  Red\n11  Red  Red  Red  Black  Blue  Blue  Blue  Blue   Red  Red  Red  Red\n12  Red  Red  Red  Black  Blue  Blue  Blue   Red  Blue  Red  Red  Red\n13  Red  Red  Red  Black  Blue  Blue  Blue  Blue  Blue  Red  Red  Red\n14  Red  Red  Red  Black  Blue  Blue  Blue  Blue  Blue  Red  Red  Red\n15  Red  Red  Red  Black  Blue  Blue  Blue  Blue  Blue  Red  Red  Red\n16  Red  Red  Red  Black  Blue  Blue  Blue  Blue  Blue  Red  Red  Red\n17  Red  Red  Red  Black  Blue  Blue  Blue  Blue  Blue  Red  Red  Red",
      "text/html": "<div>\n<style scoped>\n    .dataframe tbody tr th:only-of-type {\n        vertical-align: middle;\n    }\n\n    .dataframe tbody tr th {\n        vertical-align: top;\n    }\n\n    .dataframe thead th {\n        text-align: right;\n    }\n</style>\n<table border=\"1\" class=\"dataframe\">\n  <thead>\n    <tr style=\"text-align: right;\">\n      <th></th>\n      <th>0</th>\n      <th>1</th>\n      <th>2</th>\n      <th>3</th>\n      <th>4</th>\n      <th>5</th>\n      <th>6</th>\n      <th>7</th>\n      <th>8</th>\n      <th>9</th>\n      <th>10</th>\n      <th>11</th>\n    </tr>\n  </thead>\n  <tbody>\n    <tr>\n      <th>0</th>\n      <td>Red</td>\n      <td>Red</td>\n      <td>Red</td>\n      <td>Black</td>\n      <td>Blue</td>\n      <td>Blue</td>\n      <td>Blue</td>\n      <td>Blue</td>\n      <td>Blue</td>\n      <td>Red</td>\n      <td>Red</td>\n      <td>Red</td>\n    </tr>\n    <tr>\n      <th>1</th>\n      <td>Red</td>\n      <td>Red</td>\n      <td>Red</td>\n      <td>Black</td>\n      <td>Blue</td>\n      <td>Blue</td>\n      <td>Blue</td>\n      <td>Blue</td>\n      <td>Blue</td>\n      <td>Red</td>\n      <td>Red</td>\n      <td>Red</td>\n    </tr>\n    <tr>\n      <th>2</th>\n      <td>Red</td>\n      <td>Red</td>\n      <td>Red</td>\n      <td>Black</td>\n      <td>Blue</td>\n      <td>Blue</td>\n      <td>Blue</td>\n      <td>Blue</td>\n      <td>Blue</td>\n      <td>Red</td>\n      <td>Red</td>\n      <td>Red</td>\n    </tr>\n    <tr>\n      <th>3</th>\n      <td>Red</td>\n      <td>Red</td>\n      <td>Red</td>\n      <td>Black</td>\n      <td>Blue</td>\n      <td>Blue</td>\n      <td>Blue</td>\n      <td>Blue</td>\n      <td>Blue</td>\n      <td>Red</td>\n      <td>Red</td>\n      <td>Red</td>\n    </tr>\n    <tr>\n      <th>4</th>\n      <td>Red</td>\n      <td>Red</td>\n      <td>Red</td>\n      <td>Black</td>\n      <td>Blue</td>\n      <td>Blue</td>\n      <td>Blue</td>\n      <td>Blue</td>\n      <td>Blue</td>\n      <td>Red</td>\n      <td>Red</td>\n      <td>Red</td>\n    </tr>\n    <tr>\n      <th>5</th>\n      <td>Red</td>\n      <td>Red</td>\n      <td>Red</td>\n      <td>Black</td>\n      <td>Blue</td>\n      <td>Blue</td>\n      <td>Blue</td>\n      <td>Blue</td>\n      <td>Blue</td>\n      <td>Red</td>\n      <td>Red</td>\n      <td>Red</td>\n    </tr>\n    <tr>\n      <th>6</th>\n      <td>Red</td>\n      <td>Red</td>\n      <td>Red</td>\n      <td>Black</td>\n      <td>Blue</td>\n      <td>Blue</td>\n      <td>Blue</td>\n      <td>Blue</td>\n      <td>Blue</td>\n      <td>Red</td>\n      <td>Red</td>\n      <td>Red</td>\n    </tr>\n    <tr>\n      <th>7</th>\n      <td>Red</td>\n      <td>Red</td>\n      <td>Red</td>\n      <td>Black</td>\n      <td>Blue</td>\n      <td>Blue</td>\n      <td>Blue</td>\n      <td>Blue</td>\n      <td>Blue</td>\n      <td>Red</td>\n      <td>Red</td>\n      <td>Red</td>\n    </tr>\n    <tr>\n      <th>8</th>\n      <td>Red</td>\n      <td>Red</td>\n      <td>Red</td>\n      <td>Black</td>\n      <td>Blue</td>\n      <td>Blue</td>\n      <td>Blue</td>\n      <td>Blue</td>\n      <td>Blue</td>\n      <td>Red</td>\n      <td>Red</td>\n      <td>Red</td>\n    </tr>\n    <tr>\n      <th>9</th>\n      <td>Red</td>\n      <td>Red</td>\n      <td>Red</td>\n      <td>Black</td>\n      <td>Blue</td>\n      <td>Blue</td>\n      <td>Blue</td>\n      <td>Blue</td>\n      <td>Blue</td>\n      <td>Red</td>\n      <td>Red</td>\n      <td>Red</td>\n    </tr>\n    <tr>\n      <th>10</th>\n      <td>Red</td>\n      <td>Red</td>\n      <td>Red</td>\n      <td>Black</td>\n      <td>Blue</td>\n      <td>Blue</td>\n      <td>Blue</td>\n      <td>Blue</td>\n      <td>Blue</td>\n      <td>Red</td>\n      <td>Red</td>\n      <td>Red</td>\n    </tr>\n    <tr>\n      <th>11</th>\n      <td>Red</td>\n      <td>Red</td>\n      <td>Red</td>\n      <td>Black</td>\n      <td>Blue</td>\n      <td>Blue</td>\n      <td>Blue</td>\n      <td>Blue</td>\n      <td>Red</td>\n      <td>Red</td>\n      <td>Red</td>\n      <td>Red</td>\n    </tr>\n    <tr>\n      <th>12</th>\n      <td>Red</td>\n      <td>Red</td>\n      <td>Red</td>\n      <td>Black</td>\n      <td>Blue</td>\n      <td>Blue</td>\n      <td>Blue</td>\n      <td>Red</td>\n      <td>Blue</td>\n      <td>Red</td>\n      <td>Red</td>\n      <td>Red</td>\n    </tr>\n    <tr>\n      <th>13</th>\n      <td>Red</td>\n      <td>Red</td>\n      <td>Red</td>\n      <td>Black</td>\n      <td>Blue</td>\n      <td>Blue</td>\n      <td>Blue</td>\n      <td>Blue</td>\n      <td>Blue</td>\n      <td>Red</td>\n      <td>Red</td>\n      <td>Red</td>\n    </tr>\n    <tr>\n      <th>14</th>\n      <td>Red</td>\n      <td>Red</td>\n      <td>Red</td>\n      <td>Black</td>\n      <td>Blue</td>\n      <td>Blue</td>\n      <td>Blue</td>\n      <td>Blue</td>\n      <td>Blue</td>\n      <td>Red</td>\n      <td>Red</td>\n      <td>Red</td>\n    </tr>\n    <tr>\n      <th>15</th>\n      <td>Red</td>\n      <td>Red</td>\n      <td>Red</td>\n      <td>Black</td>\n      <td>Blue</td>\n      <td>Blue</td>\n      <td>Blue</td>\n      <td>Blue</td>\n      <td>Blue</td>\n      <td>Red</td>\n      <td>Red</td>\n      <td>Red</td>\n    </tr>\n    <tr>\n      <th>16</th>\n      <td>Red</td>\n      <td>Red</td>\n      <td>Red</td>\n      <td>Black</td>\n      <td>Blue</td>\n      <td>Blue</td>\n      <td>Blue</td>\n      <td>Blue</td>\n      <td>Blue</td>\n      <td>Red</td>\n      <td>Red</td>\n      <td>Red</td>\n    </tr>\n    <tr>\n      <th>17</th>\n      <td>Red</td>\n      <td>Red</td>\n      <td>Red</td>\n      <td>Black</td>\n      <td>Blue</td>\n      <td>Blue</td>\n      <td>Blue</td>\n      <td>Blue</td>\n      <td>Blue</td>\n      <td>Red</td>\n      <td>Red</td>\n      <td>Red</td>\n    </tr>\n  </tbody>\n</table>\n</div>"
     },
     "execution_count": 120,
     "metadata": {},
     "output_type": "execute_result"
    }
   ],
   "source": [
    "df_decisions"
   ],
   "metadata": {
    "collapsed": false,
    "pycharm": {
     "name": "#%%\n"
    }
   }
  },
  {
   "cell_type": "code",
   "execution_count": 122,
   "outputs": [
    {
     "name": "stdout",
     "output_type": "stream",
     "text": [
      "     0    1    2      3     4     5     6     7     8    9    10   11\n",
      "0   Red  Red  Red  Black  Blue  Blue  Blue  Blue  Blue  Red  Red  Red\n",
      "1   Red  Red  Red  Black  Blue  Blue  Blue  Blue  Blue  Red  Red  Red\n",
      "3   Red  Red  Red  Black  Blue  Blue  Blue  Blue  Blue  Red  Red  Red\n",
      "10  Red  Red  Red  Black  Blue  Blue  Blue  Blue  Blue  Red  Red  Red\n",
      "0 0\n",
      "0 1\n",
      "0 2\n",
      "0 3\n",
      "0 4\n",
      "0 5\n",
      "0 6\n",
      "0 7\n",
      "0 8\n",
      "0 9\n",
      "0 10\n",
      "0 11\n",
      "1 0\n",
      "1 1\n",
      "1 2\n",
      "1 3\n",
      "1 4\n",
      "1 5\n",
      "1 6\n",
      "1 7\n",
      "1 8\n",
      "1 9\n",
      "1 10\n",
      "1 11\n",
      "3 0\n",
      "3 1\n",
      "3 2\n",
      "3 3\n",
      "3 4\n",
      "3 5\n",
      "3 6\n",
      "3 7\n",
      "3 8\n",
      "3 9\n",
      "3 10\n",
      "3 11\n"
     ]
    },
    {
     "ename": "IndexError",
     "evalue": "single positional indexer is out-of-bounds",
     "output_type": "error",
     "traceback": [
      "\u001B[1;31m---------------------------------------------------------------------------\u001B[0m",
      "\u001B[1;31mIndexError\u001B[0m                                Traceback (most recent call last)",
      "\u001B[1;32m<ipython-input-122-c5ffc7b37300>\u001B[0m in \u001B[0;36m<module>\u001B[1;34m\u001B[0m\n\u001B[0;32m     31\u001B[0m     \u001B[1;32mreturn\u001B[0m \u001B[1;36m1\u001B[0m\u001B[1;33m\u001B[0m\u001B[0m\n\u001B[0;32m     32\u001B[0m \u001B[1;33m\u001B[0m\u001B[0m\n\u001B[1;32m---> 33\u001B[1;33m \u001B[0mplot_solution_pp\u001B[0m\u001B[1;33m(\u001B[0m\u001B[0mangles\u001B[0m\u001B[1;33m,\u001B[0m \u001B[0mdistances\u001B[0m\u001B[1;33m,\u001B[0m \u001B[0mdf_decisions\u001B[0m\u001B[1;33m)\u001B[0m\u001B[1;33m\u001B[0m\u001B[0m\n\u001B[0m\u001B[0;32m     34\u001B[0m \u001B[1;33m\u001B[0m\u001B[0m\n",
      "\u001B[1;32m<ipython-input-122-c5ffc7b37300>\u001B[0m in \u001B[0;36mplot_solution_pp\u001B[1;34m(angles, distances, colors)\u001B[0m\n\u001B[0;32m     19\u001B[0m             \u001B[1;32mfor\u001B[0m \u001B[0mj\u001B[0m \u001B[1;32min\u001B[0m \u001B[0mcols\u001B[0m\u001B[1;33m:\u001B[0m\u001B[1;33m\u001B[0m\u001B[0m\n\u001B[0;32m     20\u001B[0m \u001B[1;33m\u001B[0m\u001B[0m\n\u001B[1;32m---> 21\u001B[1;33m                 \u001B[0mlst_col\u001B[0m\u001B[1;33m.\u001B[0m\u001B[0mappend\u001B[0m\u001B[1;33m(\u001B[0m\u001B[0mcols\u001B[0m\u001B[1;33m.\u001B[0m\u001B[0miloc\u001B[0m\u001B[1;33m[\u001B[0m\u001B[0mi\u001B[0m\u001B[1;33m,\u001B[0m \u001B[0mj\u001B[0m\u001B[1;33m]\u001B[0m\u001B[1;33m)\u001B[0m\u001B[1;33m\u001B[0m\u001B[0m\n\u001B[0m\u001B[0;32m     22\u001B[0m \u001B[1;33m\u001B[0m\u001B[0m\n\u001B[0;32m     23\u001B[0m                 \u001B[0mprint\u001B[0m\u001B[1;33m(\u001B[0m\u001B[0mi\u001B[0m\u001B[1;33m,\u001B[0m \u001B[0mj\u001B[0m\u001B[1;33m)\u001B[0m\u001B[1;33m\u001B[0m\u001B[0m\n",
      "\u001B[1;32mc:\\users\\agaci\\documents\\programowanie\\pythonproject1\\lib\\site-packages\\pandas\\core\\indexing.py\u001B[0m in \u001B[0;36m__getitem__\u001B[1;34m(self, key)\u001B[0m\n\u001B[0;32m    871\u001B[0m                     \u001B[1;31m# AttributeError for IntervalTree get_value\u001B[0m\u001B[1;33m\u001B[0m\u001B[1;33m\u001B[0m\u001B[0m\n\u001B[0;32m    872\u001B[0m                     \u001B[1;32mpass\u001B[0m\u001B[1;33m\u001B[0m\u001B[0m\n\u001B[1;32m--> 873\u001B[1;33m             \u001B[1;32mreturn\u001B[0m \u001B[0mself\u001B[0m\u001B[1;33m.\u001B[0m\u001B[0m_getitem_tuple\u001B[0m\u001B[1;33m(\u001B[0m\u001B[0mkey\u001B[0m\u001B[1;33m)\u001B[0m\u001B[1;33m\u001B[0m\u001B[0m\n\u001B[0m\u001B[0;32m    874\u001B[0m         \u001B[1;32melse\u001B[0m\u001B[1;33m:\u001B[0m\u001B[1;33m\u001B[0m\u001B[0m\n\u001B[0;32m    875\u001B[0m             \u001B[1;31m# we by definition only have the 0th axis\u001B[0m\u001B[1;33m\u001B[0m\u001B[1;33m\u001B[0m\u001B[0m\n",
      "\u001B[1;32mc:\\users\\agaci\\documents\\programowanie\\pythonproject1\\lib\\site-packages\\pandas\\core\\indexing.py\u001B[0m in \u001B[0;36m_getitem_tuple\u001B[1;34m(self, tup)\u001B[0m\n\u001B[0;32m   1441\u001B[0m     \u001B[1;32mdef\u001B[0m \u001B[0m_getitem_tuple\u001B[0m\u001B[1;33m(\u001B[0m\u001B[0mself\u001B[0m\u001B[1;33m,\u001B[0m \u001B[0mtup\u001B[0m\u001B[1;33m:\u001B[0m \u001B[0mTuple\u001B[0m\u001B[1;33m)\u001B[0m\u001B[1;33m:\u001B[0m\u001B[1;33m\u001B[0m\u001B[0m\n\u001B[0;32m   1442\u001B[0m \u001B[1;33m\u001B[0m\u001B[0m\n\u001B[1;32m-> 1443\u001B[1;33m         \u001B[0mself\u001B[0m\u001B[1;33m.\u001B[0m\u001B[0m_has_valid_tuple\u001B[0m\u001B[1;33m(\u001B[0m\u001B[0mtup\u001B[0m\u001B[1;33m)\u001B[0m\u001B[1;33m\u001B[0m\u001B[0m\n\u001B[0m\u001B[0;32m   1444\u001B[0m         \u001B[1;32mtry\u001B[0m\u001B[1;33m:\u001B[0m\u001B[1;33m\u001B[0m\u001B[0m\n\u001B[0;32m   1445\u001B[0m             \u001B[1;32mreturn\u001B[0m \u001B[0mself\u001B[0m\u001B[1;33m.\u001B[0m\u001B[0m_getitem_lowerdim\u001B[0m\u001B[1;33m(\u001B[0m\u001B[0mtup\u001B[0m\u001B[1;33m)\u001B[0m\u001B[1;33m\u001B[0m\u001B[0m\n",
      "\u001B[1;32mc:\\users\\agaci\\documents\\programowanie\\pythonproject1\\lib\\site-packages\\pandas\\core\\indexing.py\u001B[0m in \u001B[0;36m_has_valid_tuple\u001B[1;34m(self, key)\u001B[0m\n\u001B[0;32m    700\u001B[0m                 \u001B[1;32mraise\u001B[0m \u001B[0mIndexingError\u001B[0m\u001B[1;33m(\u001B[0m\u001B[1;34m\"Too many indexers\"\u001B[0m\u001B[1;33m)\u001B[0m\u001B[1;33m\u001B[0m\u001B[0m\n\u001B[0;32m    701\u001B[0m             \u001B[1;32mtry\u001B[0m\u001B[1;33m:\u001B[0m\u001B[1;33m\u001B[0m\u001B[0m\n\u001B[1;32m--> 702\u001B[1;33m                 \u001B[0mself\u001B[0m\u001B[1;33m.\u001B[0m\u001B[0m_validate_key\u001B[0m\u001B[1;33m(\u001B[0m\u001B[0mk\u001B[0m\u001B[1;33m,\u001B[0m \u001B[0mi\u001B[0m\u001B[1;33m)\u001B[0m\u001B[1;33m\u001B[0m\u001B[0m\n\u001B[0m\u001B[0;32m    703\u001B[0m             \u001B[1;32mexcept\u001B[0m \u001B[0mValueError\u001B[0m \u001B[1;32mas\u001B[0m \u001B[0merr\u001B[0m\u001B[1;33m:\u001B[0m\u001B[1;33m\u001B[0m\u001B[0m\n\u001B[0;32m    704\u001B[0m                 raise ValueError(\n",
      "\u001B[1;32mc:\\users\\agaci\\documents\\programowanie\\pythonproject1\\lib\\site-packages\\pandas\\core\\indexing.py\u001B[0m in \u001B[0;36m_validate_key\u001B[1;34m(self, key, axis)\u001B[0m\n\u001B[0;32m   1350\u001B[0m             \u001B[1;32mreturn\u001B[0m\u001B[1;33m\u001B[0m\u001B[0m\n\u001B[0;32m   1351\u001B[0m         \u001B[1;32melif\u001B[0m \u001B[0mis_integer\u001B[0m\u001B[1;33m(\u001B[0m\u001B[0mkey\u001B[0m\u001B[1;33m)\u001B[0m\u001B[1;33m:\u001B[0m\u001B[1;33m\u001B[0m\u001B[0m\n\u001B[1;32m-> 1352\u001B[1;33m             \u001B[0mself\u001B[0m\u001B[1;33m.\u001B[0m\u001B[0m_validate_integer\u001B[0m\u001B[1;33m(\u001B[0m\u001B[0mkey\u001B[0m\u001B[1;33m,\u001B[0m \u001B[0maxis\u001B[0m\u001B[1;33m)\u001B[0m\u001B[1;33m\u001B[0m\u001B[0m\n\u001B[0m\u001B[0;32m   1353\u001B[0m         \u001B[1;32melif\u001B[0m \u001B[0misinstance\u001B[0m\u001B[1;33m(\u001B[0m\u001B[0mkey\u001B[0m\u001B[1;33m,\u001B[0m \u001B[0mtuple\u001B[0m\u001B[1;33m)\u001B[0m\u001B[1;33m:\u001B[0m\u001B[1;33m\u001B[0m\u001B[0m\n\u001B[0;32m   1354\u001B[0m             \u001B[1;31m# a tuple should already have been caught by this point\u001B[0m\u001B[1;33m\u001B[0m\u001B[1;33m\u001B[0m\u001B[0m\n",
      "\u001B[1;32mc:\\users\\agaci\\documents\\programowanie\\pythonproject1\\lib\\site-packages\\pandas\\core\\indexing.py\u001B[0m in \u001B[0;36m_validate_integer\u001B[1;34m(self, key, axis)\u001B[0m\n\u001B[0;32m   1435\u001B[0m         \u001B[0mlen_axis\u001B[0m \u001B[1;33m=\u001B[0m \u001B[0mlen\u001B[0m\u001B[1;33m(\u001B[0m\u001B[0mself\u001B[0m\u001B[1;33m.\u001B[0m\u001B[0mobj\u001B[0m\u001B[1;33m.\u001B[0m\u001B[0m_get_axis\u001B[0m\u001B[1;33m(\u001B[0m\u001B[0maxis\u001B[0m\u001B[1;33m)\u001B[0m\u001B[1;33m)\u001B[0m\u001B[1;33m\u001B[0m\u001B[0m\n\u001B[0;32m   1436\u001B[0m         \u001B[1;32mif\u001B[0m \u001B[0mkey\u001B[0m \u001B[1;33m>=\u001B[0m \u001B[0mlen_axis\u001B[0m \u001B[1;32mor\u001B[0m \u001B[0mkey\u001B[0m \u001B[1;33m<\u001B[0m \u001B[1;33m-\u001B[0m\u001B[0mlen_axis\u001B[0m\u001B[1;33m:\u001B[0m\u001B[1;33m\u001B[0m\u001B[0m\n\u001B[1;32m-> 1437\u001B[1;33m             \u001B[1;32mraise\u001B[0m \u001B[0mIndexError\u001B[0m\u001B[1;33m(\u001B[0m\u001B[1;34m\"single positional indexer is out-of-bounds\"\u001B[0m\u001B[1;33m)\u001B[0m\u001B[1;33m\u001B[0m\u001B[0m\n\u001B[0m\u001B[0;32m   1438\u001B[0m \u001B[1;33m\u001B[0m\u001B[0m\n\u001B[0;32m   1439\u001B[0m     \u001B[1;31m# -------------------------------------------------------------------\u001B[0m\u001B[1;33m\u001B[0m\u001B[1;33m\u001B[0m\u001B[0m\n",
      "\u001B[1;31mIndexError\u001B[0m: single positional indexer is out-of-bounds"
     ]
    }
   ],
   "source": [
    "color_points(df_decisions)\n",
    "\n",
    "def plot_solution_pp(angles, distances, colors):\n",
    "\n",
    "    for i in range(3,10,3):\n",
    "\n",
    "        ang = angles[distances.F1_DIST == i/10]\n",
    "\n",
    "        dst = distances[distances.F1_DIST == i/10]\n",
    "\n",
    "        cols = colors[distances.F1_DIST == i/10]\n",
    "\n",
    "        lst_col = []\n",
    "\n",
    "        for i in cols.index:\n",
    "\n",
    "            for j in cols:\n",
    "\n",
    "                lst_col.append(cols.iloc[i, j])\n",
    "\n",
    "        fig = plt.figure()\n",
    "        ax = fig.add_subplot(projection='polar')\n",
    "        ax.set_rticks([.3, .6, .9, 1.2])\n",
    "        ax.set_ylim([0,1.2])\n",
    "        c = ax.scatter(ang, dst, c = cols, alpha = 0.5)\n",
    "\n",
    "    return 1\n",
    "\n",
    "#plot_solution_pp(angles, distances, df_decisions)"
   ],
   "metadata": {
    "collapsed": false,
    "pycharm": {
     "name": "#%%\n"
    }
   }
  },
  {
   "cell_type": "code",
   "execution_count": null,
   "outputs": [],
   "source": [
    "def run_all_for_pp(df):\n",
    "\n",
    "    df = reposition_figures(df)\n",
    "\n",
    "    selected_figs = get_selected_figures(df)\n",
    "\n",
    "    all_figs_positions = get_figure_locations(df)\n",
    "\n",
    "    selected = is_selected(selected_figs, all_figs_positions)\n",
    "\n",
    "    df_decisions = pd.DataFrame(selected)\n",
    "\n",
    "    color_points(df_decisions)\n",
    "\n",
    "    angles = get_angles_or_distances(df, \"ANGLE\")\n",
    "\n",
    "    distances = get_angles_or_distances(df, \"DIST\")\n",
    "\n",
    "    plot_solution_pp(angles, distances, df_decisions)\n",
    "\n",
    "    return 1\n",
    "\n",
    "\n",
    "#run_all(df_back)"
   ],
   "metadata": {
    "collapsed": false,
    "pycharm": {
     "name": "#%%\n"
    }
   }
  },
  {
   "cell_type": "code",
   "execution_count": null,
   "outputs": [],
   "source": [
    "import os\n",
    "\n",
    "ALL_ANGLES = []\n",
    "\n",
    "ALL_DISTANCES = []\n",
    "\n",
    "ALL_COLOURS = []\n",
    "\n",
    "def run_all_participants(path, condition):\n",
    "\n",
    "    for filename in os.listdir(path):\n",
    "\n",
    "        data = pd.read_json(path + \"/\" + filename)\n",
    "\n",
    "        df = data[data.SENTENCE.isin([condition])]\n",
    "\n",
    "        df = reposition_figures(df)\n",
    "\n",
    "        selected_figs = get_selected_figures(df)\n",
    "\n",
    "        all_figs_positions = get_figure_locations(df)\n",
    "\n",
    "        selected = is_selected(selected_figs, all_figs_positions)\n",
    "\n",
    "        df_decisions = pd.DataFrame(selected)\n",
    "\n",
    "        color_points(df_decisions)\n",
    "\n",
    "        ALL_ANGLES.append(get_angles_or_distances(df, \"ANGLE\"))\n",
    "\n",
    "        ALL_DISTANCES.append(get_angles_or_distances(df, \"DIST\"))\n",
    "\n",
    "        ALL_COLOURS.append(df_decisions)\n",
    "\n",
    "    return 1"
   ],
   "metadata": {
    "collapsed": false,
    "pycharm": {
     "name": "#%%\n"
    }
   }
  },
  {
   "cell_type": "code",
   "execution_count": null,
   "outputs": [],
   "source": [
    "def plot_solution_ALL(angles, distances, colors, condition):\n",
    "\n",
    "    for i in range(3,10,3):\n",
    "\n",
    "        ang = angles[distances.F1_DIST == i/10]\n",
    "\n",
    "        dst = distances[distances.F1_DIST == i/10]\n",
    "\n",
    "        cols = colors.iloc[distances[distances.F1_DIST == i/10].index]\n",
    "\n",
    "        lst_col = []\n",
    "\n",
    "        for row in cols.index:\n",
    "\n",
    "            for val in cols.iloc[i, ]:\n",
    "\n",
    "                lst_col.append(val)\n",
    "\n",
    "        fig = plt.figure()\n",
    "        ax = fig.add_subplot(projection='polar')\n",
    "        ax.set_rticks([.3, .6, .9, 1.2])\n",
    "        ax.set_ylim([0,1.2])\n",
    "        c = ax.scatter(ang, dst, c = lst_col, alpha = 0.5)\n",
    "\n",
    "        plt.savefig(\"C:/Users/agaci/OneDrive/Dokumenty/CogSci/VR/\" + condition  + \".\" + str(i) + '.png')\n",
    "\n",
    "    return 1"
   ],
   "metadata": {
    "collapsed": false,
    "pycharm": {
     "name": "#%%\n"
    }
   }
  },
  {
   "cell_type": "code",
   "execution_count": null,
   "outputs": [],
   "source": [
    "condition = \"prawo\""
   ],
   "metadata": {
    "collapsed": false,
    "pycharm": {
     "name": "#%%\n"
    }
   }
  },
  {
   "cell_type": "code",
   "execution_count": null,
   "outputs": [],
   "source": [
    "run_all_participants(path, condition)\n",
    "\n",
    "header = ALL_DISTANCES[0].columns\n",
    "\n",
    "sol = ALL_DISTANCES[0]\n",
    "\n",
    "for i in range(1,len(ALL_DISTANCES)):\n",
    "\n",
    "    sol = np.append(sol, ALL_DISTANCES[i], axis=0)\n",
    "\n",
    "sol = pd.DataFrame(sol, columns=header).reset_index(drop=True)\n",
    "\n",
    "sol2 = ALL_ANGLES[0]\n",
    "\n",
    "for i in range(1,len(ALL_ANGLES)):\n",
    "\n",
    "    sol2 = np.append(sol2, ALL_ANGLES[i], axis=0)\n",
    "\n",
    "sol2 = pd.DataFrame(sol2).reset_index(drop=True)\n",
    "\n",
    "sol2\n",
    "\n",
    "sol3 = ALL_COLOURS[0]\n",
    "\n",
    "for i in range(1, len(ALL_COLOURS)):\n",
    "\n",
    "    sol3 = pd.concat([sol3, ALL_COLOURS[i]])\n",
    "\n",
    "sol3.reset_index(drop=True)\n",
    "\n",
    "plot_solution_ALL(sol2, sol, sol3, condition)"
   ],
   "metadata": {
    "collapsed": false,
    "pycharm": {
     "name": "#%%\n"
    }
   }
  },
  {
   "cell_type": "code",
   "execution_count": null,
   "outputs": [],
   "source": [],
   "metadata": {
    "collapsed": false,
    "pycharm": {
     "name": "#%%"
    }
   }
  }
 ],
 "metadata": {
  "kernelspec": {
   "display_name": "Python 3",
   "language": "python",
   "name": "python3"
  },
  "language_info": {
   "codemirror_mode": {
    "name": "ipython",
    "version": 2
   },
   "file_extension": ".py",
   "mimetype": "text/x-python",
   "name": "python",
   "nbconvert_exporter": "python",
   "pygments_lexer": "ipython2",
   "version": "2.7.6"
  }
 },
 "nbformat": 4,
 "nbformat_minor": 0
}